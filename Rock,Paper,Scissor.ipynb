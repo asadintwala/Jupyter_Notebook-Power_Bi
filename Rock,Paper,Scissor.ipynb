{
 "cells": [
  {
   "cell_type": "code",
   "execution_count": 6,
   "id": "334d0b7d",
   "metadata": {},
   "outputs": [
    {
     "name": "stdout",
     "output_type": "stream",
     "text": [
      "Enter your choice rock or paper or scissor:rock\n",
      "You chose rock, computer chose rock\n",
      "You both chose rock, it's a tie.\n",
      "Play again (y/n)?:y\n",
      "Enter your choice rock or paper or scissor:paper\n",
      "You chose paper, computer chose scissor\n",
      "scissors cuts paper, you loose.\n",
      "Play again (y/n)?:y\n",
      "Enter your choice rock or paper or scissor:scissor\n",
      "You chose scissor, computer chose paper\n",
      "scissor cuts paper, you win.\n",
      "Play again (y/n)?:y\n",
      "Enter your choice rock or paper or scissor:sciiisor\n",
      "You chose sciiisor, computer chose rock\n",
      "invalid input, try again.\n",
      "Play again (y/n)?:n\n"
     ]
    }
   ],
   "source": [
    "import random\n",
    "while True:\n",
    "    user_choice=input('Enter your choice rock or paper or scissor:')\n",
    "    possible_choice=['rock','paper','scissor']\n",
    "    computer_choice=random.choice(possible_choice)\n",
    "    print(f'You chose {user_choice}, computer chose {computer_choice}')\n",
    "          \n",
    "    if user_choice==computer_choice:\n",
    "          print(f'You both chose {user_choice}, it\\'s a tie.')\n",
    "    elif user_choice=='rock':\n",
    "          if computer_choice=='paper':\n",
    "              print('paper covers rock, you loose.')\n",
    "          else:\n",
    "              print('rock smashes scissor, you win.')\n",
    "    elif user_choice=='paper':\n",
    "          if computer_choice=='rock':\n",
    "              print('paper covers rock, you win.')\n",
    "          else:\n",
    "              print('scissors cuts paper, you loose.')\n",
    "    elif user_choice=='scissor':\n",
    "          if computer_choice=='paper':\n",
    "              print('scissor cuts paper, you win.')\n",
    "          else:\n",
    "              print('rock smashes scissors, you loose.')\n",
    "    else:\n",
    "        print('invalid input, try again.')\n",
    "          \n",
    "    play_again=input('Play again (y/n)?:')\n",
    "    if play_again!='y':\n",
    "          break\n",
    "            "
   ]
  }
 ],
 "metadata": {
  "kernelspec": {
   "display_name": "Python 3 (ipykernel)",
   "language": "python",
   "name": "python3"
  },
  "language_info": {
   "codemirror_mode": {
    "name": "ipython",
    "version": 3
   },
   "file_extension": ".py",
   "mimetype": "text/x-python",
   "name": "python",
   "nbconvert_exporter": "python",
   "pygments_lexer": "ipython3",
   "version": "3.9.13"
  }
 },
 "nbformat": 4,
 "nbformat_minor": 5
}
