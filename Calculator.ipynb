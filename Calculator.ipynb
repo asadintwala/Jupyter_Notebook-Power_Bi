{
 "cells": [
  {
   "cell_type": "code",
   "execution_count": null,
   "id": "ad0ee8cc",
   "metadata": {},
   "outputs": [
    {
     "name": "stdout",
     "output_type": "stream",
     "text": [
      "Enter Calculation:11+11*11/11-11+1\n",
      "12.0\n"
     ]
    }
   ],
   "source": [
    "while True:\n",
    "    print(eval(input('Enter Calculation:')))"
   ]
  }
 ],
 "metadata": {
  "kernelspec": {
   "display_name": "Python 3 (ipykernel)",
   "language": "python",
   "name": "python3"
  },
  "language_info": {
   "codemirror_mode": {
    "name": "ipython",
    "version": 3
   },
   "file_extension": ".py",
   "mimetype": "text/x-python",
   "name": "python",
   "nbconvert_exporter": "python",
   "pygments_lexer": "ipython3",
   "version": "3.9.13"
  }
 },
 "nbformat": 4,
 "nbformat_minor": 5
}
